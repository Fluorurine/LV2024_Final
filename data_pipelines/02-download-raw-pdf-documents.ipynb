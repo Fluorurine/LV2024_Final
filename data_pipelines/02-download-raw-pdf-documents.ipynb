{
 "cells": [
  {
   "cell_type": "markdown",
   "id": "b58fbc5a-96ae-498c-952b-abd47dc8e362",
   "metadata": {},
   "source": [
    "# 02 - Download Raw PDF documents to analyze\n",
    "\n",
    "Use this notebook to download a set of Amazon financial reports to use as input for testing and demonstrating how the `aws-agentic-document-assistant` solution works. You can replace links to your own documents here and customize the code to your use case. Alternatively, you can put your own documents on `Amazon S3` and update the code to use them instead."
   ]
  },
  {
   "cell_type": "markdown",
   "id": "30221f85-25b3-49a0-92a5-af4f2a2dbbad",
   "metadata": {},
   "source": [
    "Run the below cells to download them."
   ]
  },
  {
   "cell_type": "code",
   "execution_count": 1,
   "id": "6f9ea798-0f5d-4c31-afda-8b04d03b8b02",
   "metadata": {
    "tags": []
   },
   "outputs": [],
   "source": [
    "raw_base_directory = \"raw_documents\""
   ]
  },
  {
   "cell_type": "code",
   "execution_count": null,
   "id": "18bef0a5-5b01-44ba-9634-9f53328d5bc7",
   "metadata": {
    "tags": []
   },
   "outputs": [],
   "source": [
    "raw_base_directory"
   ]
  },
  {
   "cell_type": "code",
   "execution_count": 3,
   "id": "91a014f2-5349-453a-b5dd-a5086ebfa3aa",
   "metadata": {
    "tags": []
   },
   "outputs": [],
   "source": [
    "import os\n",
    "\n",
    "if not os.path.exists(raw_base_directory):\n",
    "    os.makedirs(raw_base_directory)"
   ]
  },
  {
   "cell_type": "code",
   "execution_count": 4,
   "id": "13f108ae-6529-4dd2-8239-c0c279c9d085",
   "metadata": {
    "tags": []
   },
   "outputs": [],
   "source": [
    "docs_mapping = {\n",
    "    \"Amazon\": [\n",
    "        {\n",
    "            \"doc_url\": \"https://s2.q4cdn.com/299287126/files/doc_financials/2023/ar/Amazon-2022-Annual-Report.pdf\",\n",
    "            \"year\": \"2022\",\n",
    "            \"pages\": [15, 17, 18, 47, 48],\n",
    "        },\n",
    "        {\n",
    "            \"doc_url\": \"https://s2.q4cdn.com/299287126/files/doc_financials/2022/ar/Amazon-2021-Annual-Report.pdf\",\n",
    "            \"year\": \"2021\",\n",
    "            \"pages\": [14, 16, 17, 18, 46, 47],\n",
    "        },\n",
    "        {\"doc_url\": \"\", \"year\": \"\"},\n",
    "    ]\n",
    "}"
   ]
  },
  {
   "cell_type": "code",
   "execution_count": null,
   "id": "84656235-d271-4336-b355-9e0fb33feea7",
   "metadata": {
    "tags": []
   },
   "outputs": [],
   "source": [
    "import os  # Used for creating directories and handling file paths\n",
    "import requests  # Used for sending HTTP requests to download files\n",
    "\n",
    "def download_pdf_files(base_directory, docs_mapping, headers):\n",
    "    \"\"\"\n",
    "    Downloads PDF files from given URLs and organizes them in a directory structure.\n",
    "\n",
    "    Args:\n",
    "        base_directory (str): The root directory where files will be stored.\n",
    "        docs_mapping (dict): A dictionary mapping company names to lists of document metadata.\n",
    "                             Example format:\n",
    "                             {\n",
    "                                 \"CompanyA\": [{\"doc_url\": \"http://example.com/doc1.pdf\", \"year\": 2020}, ...],\n",
    "                                 ...\n",
    "                             }\n",
    "        headers (dict): Headers to include in the HTTP requests for downloading files.\n",
    "\n",
    "    Steps:\n",
    "    1. Ensure the base directory exists.\n",
    "    2. Create subdirectories for each company.\n",
    "    3. Download and save each document, skipping already downloaded files or invalid URLs.\n",
    "    \"\"\"\n",
    "\n",
    "    # Ensure the base directory exists\n",
    "    if not os.path.exists(base_directory):\n",
    "        os.makedirs(base_directory)  # Create the base directory if it doesn't exist\n",
    "\n",
    "    # Iterate over each company and its associated documents\n",
    "    for company, docs in docs_mapping.items():\n",
    "        company_directory = os.path.join(base_directory, company)  # Path for the company's directory\n",
    "\n",
    "        # Create a directory for the company if it doesn't exist\n",
    "        if not os.path.exists(company_directory):\n",
    "            os.makedirs(company_directory)\n",
    "\n",
    "        # Process each document for the company\n",
    "        for doc_info in docs:\n",
    "            doc_url = doc_info[\"doc_url\"]  # URL of the document\n",
    "            year = doc_info[\"year\"]  # Year associated with the document\n",
    "\n",
    "            # Skip empty or missing URLs\n",
    "            if not doc_url:\n",
    "                continue\n",
    "\n",
    "            # Construct the filename using the year\n",
    "            filename = f\"annual_report_{year}.pdf\"\n",
    "            file_path = os.path.join(company_directory, filename)\n",
    "\n",
    "            # Check if the file already exists\n",
    "            if os.path.exists(file_path):\n",
    "                print(f\"{filename} already exists for {company}\")\n",
    "            else:\n",
    "                # Attempt to download the document\n",
    "                response = requests.get(doc_url, headers=headers)\n",
    "\n",
    "                if response.status_code == 200:  # Check if the download was successful\n",
    "                    # Save the document content to the file\n",
    "                    with open(file_path, \"wb\") as file:\n",
    "                        file.write(response.content)\n",
    "                    print(f\"Downloaded {filename} for {company}\")\n",
    "                else:\n",
    "                    # Print an error message for failed downloads\n",
    "                    print(\n",
    "                        f\"Failed to download {filename} for {company} \"\n",
    "                        f\"(Status Code: {response.status_code})\"\n",
    "                    )\n"
   ]
  },
  {
   "cell_type": "code",
   "execution_count": null,
   "id": "932da11f-583a-4a75-9a34-41e36cff4539",
   "metadata": {
    "tags": []
   },
   "outputs": [],
   "source": [
    "# Define user-agent and headers to mimic a browser request\n",
    "headers = {\n",
    "    \"User-Agent\": \"Mozilla/5.0 (Windows NT 10.0; Win64; x64) AppleWebKit/537.36 (KHTML, like Gecko) Chrome/91.0.4472.124 Safari/537.36\"\n",
    "}\n",
    "download_pdf_files(raw_base_directory, docs_mapping, headers)"
   ]
  },
  {
   "cell_type": "code",
   "execution_count": null,
   "id": "469c1116-6d18-4393-b1a3-59a08d483ea4",
   "metadata": {
    "tags": []
   },
   "outputs": [],
   "source": [
    "!ls {raw_base_directory}/Amazon"
   ]
  },
  {
   "cell_type": "markdown",
   "id": "87a9f7bd-81e0-46b2-aa37-abddd1b0f1ec",
   "metadata": {},
   "source": [
    "## Keep relevant pages\n",
    "\n",
    "Although you can run the full PDF documents through the solution, to optimize the extraction costs, we suggest that you select the relevant pages from each pdf documents."
   ]
  },
  {
   "cell_type": "code",
   "execution_count": null,
   "id": "a0684e1e-0e45-4a9e-98a6-6ac7f98fdddb",
   "metadata": {
    "tags": []
   },
   "outputs": [],
   "source": [
    "%pip install -q pypdf 2> /dev/null"
   ]
  },
  {
   "cell_type": "code",
   "execution_count": null,
   "id": "4c577a0b-8db2-4089-98c8-87b9d91fc7b9",
   "metadata": {
    "tags": []
   },
   "outputs": [],
   "source": [
    "import json  # Used for handling JSON data (serialization and deserialization)\n",
    "from pypdf import PdfReader, PdfWriter  # For reading and writing PDF files\n",
    "\n",
    "def keep_relevant_pages_in_pdf(input_pdf_path, output_pdf_path, pages):\n",
    "    \"\"\"\n",
    "    Extracts and saves specific pages from a PDF file.\n",
    "\n",
    "    Args:\n",
    "        input_pdf_path (str): Path to the input PDF file.\n",
    "        output_pdf_path (str): Path to save the new PDF file containing only the relevant pages.\n",
    "        pages (list): A list of page numbers (1-indexed) to extract from the input PDF.\n",
    "\n",
    "    Steps:\n",
    "    1. Read the input PDF file.\n",
    "    2. Extract the specified pages.\n",
    "    3. Write the extracted pages to a new PDF file.\n",
    "    \"\"\"\n",
    "    input_pdf = PdfReader(input_pdf_path)  # Load the input PDF\n",
    "    print(f\"Number of pages is {len(input_pdf.pages)}\")  # Print the total number of pages in the PDF\n",
    "    print(f\"Relevant pages are {pages}\")  # Print the pages to be extracted\n",
    "    output_pdf = PdfWriter()  # Initialize a PDF writer object\n",
    "\n",
    "    # Iterate over the list of page numbers\n",
    "    for page_num in pages:\n",
    "        # Convert 1-indexed page number to 0-indexed for internal access\n",
    "        output_pdf.add_page(input_pdf.pages[page_num - 1])\n",
    "\n",
    "    # Save the new PDF to the specified output path\n",
    "    with open(output_pdf_path, \"wb\") as f:\n",
    "        output_pdf.write(f)\n",
    "\n",
    "def save_json(json_data, file_path):\n",
    "    \"\"\"\n",
    "    Saves a Python dictionary or list as a JSON file.\n",
    "\n",
    "    Args:\n",
    "        json_data (dict or list): The data to be saved as JSON.\n",
    "        file_path (str): The path where the JSON file will be saved.\n",
    "\n",
    "    Steps:\n",
    "    1. Open the file in write mode.\n",
    "    2. Serialize the Python object into a JSON string and write it to the file.\n",
    "    \"\"\"\n",
    "    with open(file_path, \"w\") as f:  # Open the file in write mode\n",
    "        json.dump(json_data, f)  # Serialize the data and write it to the file\n"
   ]
  },
  {
   "cell_type": "code",
   "execution_count": null,
   "id": "c60de1f3-c11e-4594-86cb-0a5424667c4c",
   "metadata": {
    "tags": []
   },
   "outputs": [],
   "source": [
    "import shutil  # For file operations like copying files\n",
    "\n",
    "def keep_relevant_pages_in_pdfs(\n",
    "    raw_base_directory, prepared_base_directory, docs_mapping\n",
    "):\n",
    "    \"\"\"\n",
    "    Processes PDF files by extracting specific pages and saving them into a structured directory,\n",
    "    while maintaining metadata for further reference.\n",
    "\n",
    "    Args:\n",
    "        raw_base_directory (str): The base directory where raw (unprocessed) PDF files are stored.\n",
    "        prepared_base_directory (str): The base directory where processed PDF files will be stored.\n",
    "        docs_mapping (dict): A dictionary mapping company names to lists of document metadata.\n",
    "                             Example format:\n",
    "                             {\n",
    "                                 \"CompanyA\": [\n",
    "                                     {\"doc_url\": \"http://example.com/doc1.pdf\", \n",
    "                                      \"year\": 2020, \n",
    "                                      \"pages\": [1, 2, 3]},\n",
    "                                     ...\n",
    "                                 ],\n",
    "                                 ...\n",
    "                             }\n",
    "\n",
    "    Steps:\n",
    "    1. Create the `prepared_base_directory` if it doesn't exist.\n",
    "    2. Iterate through each company and its documents, creating subdirectories as needed.\n",
    "    3. For each document:\n",
    "       - If specific pages are defined, extract and save those pages into a new PDF.\n",
    "       - If no pages are defined, copy the original PDF as-is to the prepared directory.\n",
    "    4. Save metadata about the processed files into a `metadata.json` file in the prepared base directory.\n",
    "\n",
    "    Returns:\n",
    "        bool: Always returns `True` to indicate the process is complete.\n",
    "    \"\"\"\n",
    "    metadata = []  # To store metadata for all processed files\n",
    "\n",
    "    # Ensure the prepared base directory exists\n",
    "    if not os.path.exists(prepared_base_directory):\n",
    "        os.makedirs(prepared_base_directory)\n",
    "\n",
    "    # Iterate over companies and their associated documents\n",
    "    for company, docs in docs_mapping.items():\n",
    "        raw_company_directory = os.path.join(raw_base_directory, company)  # Raw files path\n",
    "        prepared_company_directory = os.path.join(prepared_base_directory, company)  # Processed files path\n",
    "\n",
    "        # Create a directory for the company in the prepared directory\n",
    "        if not os.path.exists(prepared_company_directory):\n",
    "            os.makedirs(prepared_company_directory)\n",
    "\n",
    "        for doc_info in docs:\n",
    "            doc_url = doc_info[\"doc_url\"]  # URL of the document\n",
    "            year = doc_info[\"year\"]  # Year associated with the document\n",
    "            pages = doc_info.get(\"pages\", [])  # Pages to extract (optional)\n",
    "\n",
    "            # Skip empty URLs\n",
    "            if not doc_url:\n",
    "                continue\n",
    "\n",
    "            # Prepare metadata entry for the current document\n",
    "            current_metadata = {\n",
    "                \"company\": company,\n",
    "                \"year\": year,\n",
    "                \"doc_url\": doc_url,\n",
    "            }\n",
    "\n",
    "            # Construct file paths\n",
    "            filename = f\"annual_report_{year}.pdf\"\n",
    "            input_pdf_path = os.path.join(raw_company_directory, filename)\n",
    "            output_pdf_path = os.path.join(prepared_company_directory, filename)\n",
    "\n",
    "            current_metadata[\"local_pdf_path\"] = output_pdf_path  # Store output file path in metadata\n",
    "\n",
    "            if not pages:\n",
    "                # If no pages are specified, copy the file as-is\n",
    "                shutil.copyfile(input_pdf_path, output_pdf_path)\n",
    "                metadata.append(current_metadata)  # Add metadata for the copied file\n",
    "                continue\n",
    "\n",
    "            # If pages are specified, process the relevant pages\n",
    "            relevant_pages = doc_info[\"pages\"]\n",
    "            current_metadata[\"pages_kept\"] = relevant_pages  # Record the kept pages in metadata\n",
    "\n",
    "            # Extract and save the relevant pages\n",
    "            keep_relevant_pages_in_pdf(input_pdf_path, output_pdf_path, relevant_pages)\n",
    "\n",
    "            metadata.append(current_metadata)  # Add metadata for the processed file\n",
    "\n",
    "    # Save metadata to a JSON file in the prepared directory\n",
    "    save_json(metadata, os.path.join(prepared_base_directory, \"metadata.json\"))\n",
    "\n",
    "    return True  # Indicate successful completion\n"
   ]
  },
  {
   "cell_type": "code",
   "execution_count": null,
   "id": "180ebefe-418c-478e-9fbe-02047534fce0",
   "metadata": {
    "tags": []
   },
   "outputs": [],
   "source": [
    "prepared_base_directory = os.path.join(raw_base_directory, \"prepared/\")\n",
    "prepared_base_directory"
   ]
  },
  {
   "cell_type": "code",
   "execution_count": null,
   "id": "5a779dab-e1f2-4b57-9a18-cbbd31bc27f1",
   "metadata": {
    "tags": []
   },
   "outputs": [],
   "source": [
    "keep_relevant_pages_in_pdfs(raw_base_directory, prepared_base_directory, docs_mapping)"
   ]
  },
  {
   "cell_type": "markdown",
   "id": "a1affee2-7f8c-446e-8d01-4c0e4a3a8c46",
   "metadata": {},
   "source": [
    "\n",
    "Interesting entities:\n",
    "\n",
    "* Amazon annual report 2022:\n",
    "    * Human capital - pg 15.\n",
    "    * Risks - pg 17, 18.\n",
    "    * Consolidated statements of cash flows millions - pg 47.\n",
    "    * Consolidated statements of operations (in millions, except per share data) - pg 48\n",
    "* Amazon annual report 2021:\n",
    "    * Human capital - pg 14.\n",
    "    * Risks - pg 16, 17, 18.\n",
    "    * Consolidated statements of cash flows millions - pg 46.\n",
    "    * Consolidated statements of operations (in millions, except per share data) - pg 47"
   ]
  },
  {
   "cell_type": "code",
   "execution_count": null,
   "id": "d18d8581-9956-4ea3-bd16-52277095c852",
   "metadata": {
    "tags": []
   },
   "outputs": [],
   "source": [
    "prepared_base_directory"
   ]
  },
  {
   "cell_type": "code",
   "execution_count": null,
   "id": "3630cb09-a115-499f-b74e-409425d19537",
   "metadata": {
    "tags": []
   },
   "outputs": [],
   "source": [
    "!ls {prepared_base_directory}"
   ]
  },
  {
   "cell_type": "code",
   "execution_count": null,
   "id": "3506a6e4-1ce5-4d7d-bb07-c16a18e69db7",
   "metadata": {
    "tags": []
   },
   "outputs": [],
   "source": [
    "!cat {prepared_base_directory}/metadata.json | python -m json.tool"
   ]
  }
 ],
 "metadata": {
  "availableInstances": [
   {
    "_defaultOrder": 0,
    "_isFastLaunch": true,
    "category": "General purpose",
    "gpuNum": 0,
    "hideHardwareSpecs": false,
    "memoryGiB": 4,
    "name": "ml.t3.medium",
    "vcpuNum": 2
   },
   {
    "_defaultOrder": 1,
    "_isFastLaunch": false,
    "category": "General purpose",
    "gpuNum": 0,
    "hideHardwareSpecs": false,
    "memoryGiB": 8,
    "name": "ml.t3.large",
    "vcpuNum": 2
   },
   {
    "_defaultOrder": 2,
    "_isFastLaunch": false,
    "category": "General purpose",
    "gpuNum": 0,
    "hideHardwareSpecs": false,
    "memoryGiB": 16,
    "name": "ml.t3.xlarge",
    "vcpuNum": 4
   },
   {
    "_defaultOrder": 3,
    "_isFastLaunch": false,
    "category": "General purpose",
    "gpuNum": 0,
    "hideHardwareSpecs": false,
    "memoryGiB": 32,
    "name": "ml.t3.2xlarge",
    "vcpuNum": 8
   },
   {
    "_defaultOrder": 4,
    "_isFastLaunch": true,
    "category": "General purpose",
    "gpuNum": 0,
    "hideHardwareSpecs": false,
    "memoryGiB": 8,
    "name": "ml.m5.large",
    "vcpuNum": 2
   },
   {
    "_defaultOrder": 5,
    "_isFastLaunch": false,
    "category": "General purpose",
    "gpuNum": 0,
    "hideHardwareSpecs": false,
    "memoryGiB": 16,
    "name": "ml.m5.xlarge",
    "vcpuNum": 4
   },
   {
    "_defaultOrder": 6,
    "_isFastLaunch": false,
    "category": "General purpose",
    "gpuNum": 0,
    "hideHardwareSpecs": false,
    "memoryGiB": 32,
    "name": "ml.m5.2xlarge",
    "vcpuNum": 8
   },
   {
    "_defaultOrder": 7,
    "_isFastLaunch": false,
    "category": "General purpose",
    "gpuNum": 0,
    "hideHardwareSpecs": false,
    "memoryGiB": 64,
    "name": "ml.m5.4xlarge",
    "vcpuNum": 16
   },
   {
    "_defaultOrder": 8,
    "_isFastLaunch": false,
    "category": "General purpose",
    "gpuNum": 0,
    "hideHardwareSpecs": false,
    "memoryGiB": 128,
    "name": "ml.m5.8xlarge",
    "vcpuNum": 32
   },
   {
    "_defaultOrder": 9,
    "_isFastLaunch": false,
    "category": "General purpose",
    "gpuNum": 0,
    "hideHardwareSpecs": false,
    "memoryGiB": 192,
    "name": "ml.m5.12xlarge",
    "vcpuNum": 48
   },
   {
    "_defaultOrder": 10,
    "_isFastLaunch": false,
    "category": "General purpose",
    "gpuNum": 0,
    "hideHardwareSpecs": false,
    "memoryGiB": 256,
    "name": "ml.m5.16xlarge",
    "vcpuNum": 64
   },
   {
    "_defaultOrder": 11,
    "_isFastLaunch": false,
    "category": "General purpose",
    "gpuNum": 0,
    "hideHardwareSpecs": false,
    "memoryGiB": 384,
    "name": "ml.m5.24xlarge",
    "vcpuNum": 96
   },
   {
    "_defaultOrder": 12,
    "_isFastLaunch": false,
    "category": "General purpose",
    "gpuNum": 0,
    "hideHardwareSpecs": false,
    "memoryGiB": 8,
    "name": "ml.m5d.large",
    "vcpuNum": 2
   },
   {
    "_defaultOrder": 13,
    "_isFastLaunch": false,
    "category": "General purpose",
    "gpuNum": 0,
    "hideHardwareSpecs": false,
    "memoryGiB": 16,
    "name": "ml.m5d.xlarge",
    "vcpuNum": 4
   },
   {
    "_defaultOrder": 14,
    "_isFastLaunch": false,
    "category": "General purpose",
    "gpuNum": 0,
    "hideHardwareSpecs": false,
    "memoryGiB": 32,
    "name": "ml.m5d.2xlarge",
    "vcpuNum": 8
   },
   {
    "_defaultOrder": 15,
    "_isFastLaunch": false,
    "category": "General purpose",
    "gpuNum": 0,
    "hideHardwareSpecs": false,
    "memoryGiB": 64,
    "name": "ml.m5d.4xlarge",
    "vcpuNum": 16
   },
   {
    "_defaultOrder": 16,
    "_isFastLaunch": false,
    "category": "General purpose",
    "gpuNum": 0,
    "hideHardwareSpecs": false,
    "memoryGiB": 128,
    "name": "ml.m5d.8xlarge",
    "vcpuNum": 32
   },
   {
    "_defaultOrder": 17,
    "_isFastLaunch": false,
    "category": "General purpose",
    "gpuNum": 0,
    "hideHardwareSpecs": false,
    "memoryGiB": 192,
    "name": "ml.m5d.12xlarge",
    "vcpuNum": 48
   },
   {
    "_defaultOrder": 18,
    "_isFastLaunch": false,
    "category": "General purpose",
    "gpuNum": 0,
    "hideHardwareSpecs": false,
    "memoryGiB": 256,
    "name": "ml.m5d.16xlarge",
    "vcpuNum": 64
   },
   {
    "_defaultOrder": 19,
    "_isFastLaunch": false,
    "category": "General purpose",
    "gpuNum": 0,
    "hideHardwareSpecs": false,
    "memoryGiB": 384,
    "name": "ml.m5d.24xlarge",
    "vcpuNum": 96
   },
   {
    "_defaultOrder": 20,
    "_isFastLaunch": false,
    "category": "General purpose",
    "gpuNum": 0,
    "hideHardwareSpecs": true,
    "memoryGiB": 0,
    "name": "ml.geospatial.interactive",
    "supportedImageNames": [
     "sagemaker-geospatial-v1-0"
    ],
    "vcpuNum": 0
   },
   {
    "_defaultOrder": 21,
    "_isFastLaunch": true,
    "category": "Compute optimized",
    "gpuNum": 0,
    "hideHardwareSpecs": false,
    "memoryGiB": 4,
    "name": "ml.c5.large",
    "vcpuNum": 2
   },
   {
    "_defaultOrder": 22,
    "_isFastLaunch": false,
    "category": "Compute optimized",
    "gpuNum": 0,
    "hideHardwareSpecs": false,
    "memoryGiB": 8,
    "name": "ml.c5.xlarge",
    "vcpuNum": 4
   },
   {
    "_defaultOrder": 23,
    "_isFastLaunch": false,
    "category": "Compute optimized",
    "gpuNum": 0,
    "hideHardwareSpecs": false,
    "memoryGiB": 16,
    "name": "ml.c5.2xlarge",
    "vcpuNum": 8
   },
   {
    "_defaultOrder": 24,
    "_isFastLaunch": false,
    "category": "Compute optimized",
    "gpuNum": 0,
    "hideHardwareSpecs": false,
    "memoryGiB": 32,
    "name": "ml.c5.4xlarge",
    "vcpuNum": 16
   },
   {
    "_defaultOrder": 25,
    "_isFastLaunch": false,
    "category": "Compute optimized",
    "gpuNum": 0,
    "hideHardwareSpecs": false,
    "memoryGiB": 72,
    "name": "ml.c5.9xlarge",
    "vcpuNum": 36
   },
   {
    "_defaultOrder": 26,
    "_isFastLaunch": false,
    "category": "Compute optimized",
    "gpuNum": 0,
    "hideHardwareSpecs": false,
    "memoryGiB": 96,
    "name": "ml.c5.12xlarge",
    "vcpuNum": 48
   },
   {
    "_defaultOrder": 27,
    "_isFastLaunch": false,
    "category": "Compute optimized",
    "gpuNum": 0,
    "hideHardwareSpecs": false,
    "memoryGiB": 144,
    "name": "ml.c5.18xlarge",
    "vcpuNum": 72
   },
   {
    "_defaultOrder": 28,
    "_isFastLaunch": false,
    "category": "Compute optimized",
    "gpuNum": 0,
    "hideHardwareSpecs": false,
    "memoryGiB": 192,
    "name": "ml.c5.24xlarge",
    "vcpuNum": 96
   },
   {
    "_defaultOrder": 29,
    "_isFastLaunch": true,
    "category": "Accelerated computing",
    "gpuNum": 1,
    "hideHardwareSpecs": false,
    "memoryGiB": 16,
    "name": "ml.g4dn.xlarge",
    "vcpuNum": 4
   },
   {
    "_defaultOrder": 30,
    "_isFastLaunch": false,
    "category": "Accelerated computing",
    "gpuNum": 1,
    "hideHardwareSpecs": false,
    "memoryGiB": 32,
    "name": "ml.g4dn.2xlarge",
    "vcpuNum": 8
   },
   {
    "_defaultOrder": 31,
    "_isFastLaunch": false,
    "category": "Accelerated computing",
    "gpuNum": 1,
    "hideHardwareSpecs": false,
    "memoryGiB": 64,
    "name": "ml.g4dn.4xlarge",
    "vcpuNum": 16
   },
   {
    "_defaultOrder": 32,
    "_isFastLaunch": false,
    "category": "Accelerated computing",
    "gpuNum": 1,
    "hideHardwareSpecs": false,
    "memoryGiB": 128,
    "name": "ml.g4dn.8xlarge",
    "vcpuNum": 32
   },
   {
    "_defaultOrder": 33,
    "_isFastLaunch": false,
    "category": "Accelerated computing",
    "gpuNum": 4,
    "hideHardwareSpecs": false,
    "memoryGiB": 192,
    "name": "ml.g4dn.12xlarge",
    "vcpuNum": 48
   },
   {
    "_defaultOrder": 34,
    "_isFastLaunch": false,
    "category": "Accelerated computing",
    "gpuNum": 1,
    "hideHardwareSpecs": false,
    "memoryGiB": 256,
    "name": "ml.g4dn.16xlarge",
    "vcpuNum": 64
   },
   {
    "_defaultOrder": 35,
    "_isFastLaunch": false,
    "category": "Accelerated computing",
    "gpuNum": 1,
    "hideHardwareSpecs": false,
    "memoryGiB": 61,
    "name": "ml.p3.2xlarge",
    "vcpuNum": 8
   },
   {
    "_defaultOrder": 36,
    "_isFastLaunch": false,
    "category": "Accelerated computing",
    "gpuNum": 4,
    "hideHardwareSpecs": false,
    "memoryGiB": 244,
    "name": "ml.p3.8xlarge",
    "vcpuNum": 32
   },
   {
    "_defaultOrder": 37,
    "_isFastLaunch": false,
    "category": "Accelerated computing",
    "gpuNum": 8,
    "hideHardwareSpecs": false,
    "memoryGiB": 488,
    "name": "ml.p3.16xlarge",
    "vcpuNum": 64
   },
   {
    "_defaultOrder": 38,
    "_isFastLaunch": false,
    "category": "Accelerated computing",
    "gpuNum": 8,
    "hideHardwareSpecs": false,
    "memoryGiB": 768,
    "name": "ml.p3dn.24xlarge",
    "vcpuNum": 96
   },
   {
    "_defaultOrder": 39,
    "_isFastLaunch": false,
    "category": "Memory Optimized",
    "gpuNum": 0,
    "hideHardwareSpecs": false,
    "memoryGiB": 16,
    "name": "ml.r5.large",
    "vcpuNum": 2
   },
   {
    "_defaultOrder": 40,
    "_isFastLaunch": false,
    "category": "Memory Optimized",
    "gpuNum": 0,
    "hideHardwareSpecs": false,
    "memoryGiB": 32,
    "name": "ml.r5.xlarge",
    "vcpuNum": 4
   },
   {
    "_defaultOrder": 41,
    "_isFastLaunch": false,
    "category": "Memory Optimized",
    "gpuNum": 0,
    "hideHardwareSpecs": false,
    "memoryGiB": 64,
    "name": "ml.r5.2xlarge",
    "vcpuNum": 8
   },
   {
    "_defaultOrder": 42,
    "_isFastLaunch": false,
    "category": "Memory Optimized",
    "gpuNum": 0,
    "hideHardwareSpecs": false,
    "memoryGiB": 128,
    "name": "ml.r5.4xlarge",
    "vcpuNum": 16
   },
   {
    "_defaultOrder": 43,
    "_isFastLaunch": false,
    "category": "Memory Optimized",
    "gpuNum": 0,
    "hideHardwareSpecs": false,
    "memoryGiB": 256,
    "name": "ml.r5.8xlarge",
    "vcpuNum": 32
   },
   {
    "_defaultOrder": 44,
    "_isFastLaunch": false,
    "category": "Memory Optimized",
    "gpuNum": 0,
    "hideHardwareSpecs": false,
    "memoryGiB": 384,
    "name": "ml.r5.12xlarge",
    "vcpuNum": 48
   },
   {
    "_defaultOrder": 45,
    "_isFastLaunch": false,
    "category": "Memory Optimized",
    "gpuNum": 0,
    "hideHardwareSpecs": false,
    "memoryGiB": 512,
    "name": "ml.r5.16xlarge",
    "vcpuNum": 64
   },
   {
    "_defaultOrder": 46,
    "_isFastLaunch": false,
    "category": "Memory Optimized",
    "gpuNum": 0,
    "hideHardwareSpecs": false,
    "memoryGiB": 768,
    "name": "ml.r5.24xlarge",
    "vcpuNum": 96
   },
   {
    "_defaultOrder": 47,
    "_isFastLaunch": false,
    "category": "Accelerated computing",
    "gpuNum": 1,
    "hideHardwareSpecs": false,
    "memoryGiB": 16,
    "name": "ml.g5.xlarge",
    "vcpuNum": 4
   },
   {
    "_defaultOrder": 48,
    "_isFastLaunch": false,
    "category": "Accelerated computing",
    "gpuNum": 1,
    "hideHardwareSpecs": false,
    "memoryGiB": 32,
    "name": "ml.g5.2xlarge",
    "vcpuNum": 8
   },
   {
    "_defaultOrder": 49,
    "_isFastLaunch": false,
    "category": "Accelerated computing",
    "gpuNum": 1,
    "hideHardwareSpecs": false,
    "memoryGiB": 64,
    "name": "ml.g5.4xlarge",
    "vcpuNum": 16
   },
   {
    "_defaultOrder": 50,
    "_isFastLaunch": false,
    "category": "Accelerated computing",
    "gpuNum": 1,
    "hideHardwareSpecs": false,
    "memoryGiB": 128,
    "name": "ml.g5.8xlarge",
    "vcpuNum": 32
   },
   {
    "_defaultOrder": 51,
    "_isFastLaunch": false,
    "category": "Accelerated computing",
    "gpuNum": 1,
    "hideHardwareSpecs": false,
    "memoryGiB": 256,
    "name": "ml.g5.16xlarge",
    "vcpuNum": 64
   },
   {
    "_defaultOrder": 52,
    "_isFastLaunch": false,
    "category": "Accelerated computing",
    "gpuNum": 4,
    "hideHardwareSpecs": false,
    "memoryGiB": 192,
    "name": "ml.g5.12xlarge",
    "vcpuNum": 48
   },
   {
    "_defaultOrder": 53,
    "_isFastLaunch": false,
    "category": "Accelerated computing",
    "gpuNum": 4,
    "hideHardwareSpecs": false,
    "memoryGiB": 384,
    "name": "ml.g5.24xlarge",
    "vcpuNum": 96
   },
   {
    "_defaultOrder": 54,
    "_isFastLaunch": false,
    "category": "Accelerated computing",
    "gpuNum": 8,
    "hideHardwareSpecs": false,
    "memoryGiB": 768,
    "name": "ml.g5.48xlarge",
    "vcpuNum": 192
   },
   {
    "_defaultOrder": 55,
    "_isFastLaunch": false,
    "category": "Accelerated computing",
    "gpuNum": 8,
    "hideHardwareSpecs": false,
    "memoryGiB": 1152,
    "name": "ml.p4d.24xlarge",
    "vcpuNum": 96
   },
   {
    "_defaultOrder": 56,
    "_isFastLaunch": false,
    "category": "Accelerated computing",
    "gpuNum": 8,
    "hideHardwareSpecs": false,
    "memoryGiB": 1152,
    "name": "ml.p4de.24xlarge",
    "vcpuNum": 96
   }
  ],
  "instance_type": "ml.t3.medium",
  "kernelspec": {
   "display_name": "Python 3",
   "language": "python",
   "name": "python3"
  },
  "language_info": {
   "codemirror_mode": {
    "name": "ipython",
    "version": 3
   },
   "file_extension": ".py",
   "mimetype": "text/x-python",
   "name": "python",
   "nbconvert_exporter": "python",
   "pygments_lexer": "ipython3",
   "version": "3.12.4"
  }
 },
 "nbformat": 4,
 "nbformat_minor": 5
}
